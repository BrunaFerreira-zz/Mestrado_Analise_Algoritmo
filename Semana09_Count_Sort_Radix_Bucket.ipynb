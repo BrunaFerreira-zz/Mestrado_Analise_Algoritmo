{
  "nbformat": 4,
  "nbformat_minor": 0,
  "metadata": {
    "colab": {
      "name": "Semana09_Count_Sort_Radix_Bucket.ipynb",
      "provenance": [],
      "collapsed_sections": [],
      "authorship_tag": "ABX9TyNJ6RmLOkXUlaK2BMrb0L0X",
      "include_colab_link": true
    },
    "kernelspec": {
      "name": "python3",
      "display_name": "Python 3"
    }
  },
  "cells": [
    {
      "cell_type": "markdown",
      "metadata": {
        "id": "view-in-github",
        "colab_type": "text"
      },
      "source": [
        "<a href=\"https://colab.research.google.com/github/BrunaFerreira/Mestrado_Analise_Algoritmo/blob/master/Semana09_Count_Sort_Radix_Bucket.ipynb\" target=\"_parent\"><img src=\"https://colab.research.google.com/assets/colab-badge.svg\" alt=\"Open In Colab\"/></a>"
      ]
    },
    {
      "cell_type": "markdown",
      "metadata": {
        "id": "KetmAxZT8-bK"
      },
      "source": [
        "# Aula 09 - Limite inferior para o problema de ordenação\n",
        "\n",
        "<b>Referências : </b>\n",
        "* <a href = \"https://www.youtube.com/watch?v=tVjVaO3KD0w&list=PLxI8Can9yAHdNN5fpKWRF8bbLG-2P-0LW&index=11&t=4s\" > Aula 09 - Limite inferior para o problema de ordenação </a>\n",
        "* <a href = \"https://drive.google.com/file/d/10-rbAmVkEejqsVGszWsBhM-QBrFa3IhR/view\" /> Slides Aula 09  </a>\n",
        "* <a href = \"https://www.youtube.com/watch?v=NlSM_9U1j6I&list=PLxI8Can9yAHdNN5fpKWRF8bbLG-2P-0LW&index=12&t=3s\" > Aula 10 - Ordenação em tempo linear </a>\n",
        "* <a href = \"https://drive.google.com/file/d/1ptw9tLZpQGyGB54EXtBssZXwwUUC-K2n/view\" /> Slides Aula 10 </a>\n",
        "* <a href = \"https://www.ime.usp.br/~pf/algoritmos/aulas/radix.html\"> Aula Complementar </a>\n",
        "\n",
        "\n",
        "## 1. Conceitos\n",
        " **Cota Superior:** é o tempo do melhor algoritmo conhecido para o problema. Indicado pela notação O.\n",
        "\n",
        " **Cota Inferior:** número mínimo de operações que um algoritmno usa para resolver um problema. \n",
        "\n",
        "> <b> Quando o algoritmo atinge a cota inferior é assintoticamente ótimo. </b>\n",
        "\n",
        "## 2. Algoritmos de ordenação baseados em comparações\n",
        "\n",
        "#### 2.1 Exemplo:\n",
        "Algoritmos de Ordenação O(n log n): \n",
        "- Mergesort e Heapsort no pior caso. \n",
        "- Quicksort caso médio\n",
        "\n",
        "Qualquer algoritmo baseado em comparações deve efetuar Omega(n log n) comparações no pior caso. \n",
        "\n",
        "Mergesort e heapsort são assintoticamente ótimos. Não há algoritmos melhores. \n",
        "\n",
        "#### 2.2 Arvore de Decisão\n",
        "- Deve conter n! folhas. \n",
        "- Todas as permutações devem estar presentes para que haja a ordenção. \n",
        "- Número de comparações no pior caso é altura da altura da arvore. \n",
        "- Uma arvore completa seria 2 ^ altura . \n",
        "\n",
        "#### 2.3 Prova da cota inferior \n",
        "- Número de folhas de uma árvore binária de decisão de altura h é menor ou igual a 2h. \n",
        "- Toda árvore que representa um algoritmo de ordenação deve ter pelo menos n!\n",
        "folhas.\n",
        "\n",
        "          n! ≤ número de folhas ≤ 2h \n",
        "\n",
        "Obs: prova completa slide 33\n",
        "\n",
        "## 3. Algoritmo por Contagem \n",
        "#### 3.1 Execução do Algoritmo\n",
        "Elementos  a serem ordenados estão no intervalo [0,k].\n",
        "\n",
        "Para cada elemento x, determinar o número de elementos menores que x.\n",
        "Informação usada para inserir o elemento X na posição correta. \n",
        "\n",
        "**Entradas :** Vetor A[1..n]\n",
        "\n",
        "**Saida:** B[1..n] com elementos de A em ordem crescente. \n",
        "\n",
        "Vetor auxiliar C, de 0 ate K.\n",
        "\n",
        "#### 3.2 Exemplo\n",
        "\n",
        "* k = 4 \n",
        "* Vetor A: \n",
        "\n",
        "i | 1 |  2 |  3 |  4 |  5 |  6 |  7 \n",
        "-- | -- | -- | -- | -- | -- | -- | -- \n",
        "Valores | 4 |  3 |  4 |  3 |  1 |  0 |  3 \n",
        "\n",
        "\n",
        "Passo 1 : Vetor C, servirá como contador. \n",
        "C[i] = Quantidade de elementos de entrada igual a i\n",
        "\n",
        " i | 0 |  1 |  2 |  3 |  4 | \n",
        "-- | -- | -- | -- | -- | -- |\n",
        " Valores | 1 |  1 |  0 |  3 |  2 \n",
        "\n",
        "Passo 2 : acumula os números em C, quantos de números antes de i. \n",
        "\n",
        " i | 0 |  1 |  2 |  3 |  4 | \n",
        "-- | -- | -- | -- | -- | -- |\n",
        " Valores | 1 |  2 |  2 |  5 |  7 \n",
        "\n",
        " Passo 3: Último elemento do vetor na posição correta. \n",
        " No exemplo: 3 é o último elemento e pelo vetor C, sabemos que tem 5 elementos antes de C, então 3 ficará na posição 5. Retiramos um da posição 3 do vetor C. \n",
        "\n",
        "\n",
        " Passo 4 : Repete o passo 3. \n",
        " \n",
        "\n",
        "<img src = \"https://raw.githubusercontent.com/BrunaFerreira/Mestrado_Analise_Algoritmo/master/images/radix_1.JPG\" width = \"700\" /> \n",
        "\n",
        "### 3.3  Consumo de tempo\n",
        "<img src = \"https://raw.githubusercontent.com/BrunaFerreira/Mestrado_Analise_Algoritmo/master/images/radix_2.JPG\" width = \"400\" /> \n",
        "\n",
        "Usamos ordenação por contagem quando k=O(n), neste caso, o consumo de tempo da ordenação por contagem é Θ (n).\n",
        "\n",
        "### 3.4  Implementação do Algoritmo\n"
      ]
    },
    {
      "cell_type": "code",
      "metadata": {
        "id": "Lv4VmQ1N88BG"
      },
      "source": [
        "    def counting_sort(A,B,n,k):\n",
        "      k = k+1\n",
        "      # Inicializa vetor C de tamanho k com 0. \n",
        "      C = [0] * k\n",
        "\n",
        "      # conta quantidade de elementos iguais\n",
        "      for j in range (0,n):\n",
        "        C[A[j]] = C[A[j]]+1\n",
        "      print(\"Quantidade de cada elemento:\",C)\n",
        "\n",
        "      for i in range (1,k):\n",
        "        C[i] = C[i] + C[i-1]\n",
        "      print(\"Quantidade elementos menores a cada elemento:\", C)\n",
        "\n",
        "      for j in range (n-1, -1, -1):\n",
        "        B[C[A[j]]-1] = A[j]\n",
        "        C[A[j]] = C[A[j]]-1\n",
        "      \n",
        "      return B"
      ],
      "execution_count": 1,
      "outputs": []
    },
    {
      "cell_type": "code",
      "metadata": {
        "id": "IKLA-WXf1s-Q",
        "outputId": "95c3673d-bdae-406d-ab3a-72182f3e1e5b",
        "colab": {
          "base_uri": "https://localhost:8080/",
          "height": 72
        }
      },
      "source": [
        "A = [4,3,4,3,1,0,3]\n",
        "n = len(A)\n",
        "k = max(A)\n",
        "B = [0,0,0,0,0,0,0]\n",
        "print (\"Vetor Ordenado:\",counting_sort(A,B,n,k))"
      ],
      "execution_count": 2,
      "outputs": [
        {
          "output_type": "stream",
          "text": [
            "Quantidade de cada elemento: [1, 1, 0, 3, 2]\n",
            "Quantidade elementos menores a cada elemento: [1, 2, 2, 5, 7]\n",
            "Vetor Ordenado: [0, 1, 3, 3, 3, 4, 4]\n"
          ],
          "name": "stdout"
        }
      ]
    },
    {
      "cell_type": "code",
      "metadata": {
        "id": "bptuiYZ7thR5"
      },
      "source": [
        "### Exercicio \n",
        "### Dados n inteiros com valores entre 1 e k, pré-processe esses inteiros e então (descontado o tempo do pré-processamento) \n",
        "### responda perguntas da forma:\n",
        "### “dados a, b, quantos dos n inteiros estão no intervalo [a , b]?”\n",
        "### A resposta a esse tipo de perguntas deve ser feita em tempo O(1) e o pré-processamento deve ser feito em tempo O(n+k).\n",
        "\n",
        "def cont_intervalo (A,n,k,a,b):\n",
        "  #Vetor de 1 a k \n",
        "  k = k+1\n",
        "\n",
        "  #Inicializa vetor de k posições com zeros\n",
        "  C = [0] * k\n",
        "\n",
        "  # Conta quantidade de elementos repetidos\n",
        "  for j in range (0,n):\n",
        "    C[A[j]] = C[A[j]]+1\n",
        "  \n",
        "  #Acumula a quantidade de números <= elemento (C[i])\n",
        "  for i in range (2,k):\n",
        "     C[i] = C[i] + C[i-1]\n",
        "\n",
        "  #Retorna a quantidade de elementos no intervalo [a,b]\n",
        "  return (C[b]-C[a-1])"
      ],
      "execution_count": 3,
      "outputs": []
    },
    {
      "cell_type": "code",
      "metadata": {
        "id": "GNRmfVMsMIbR",
        "outputId": "35b79209-b486-496b-b6cf-eddf620f5755",
        "colab": {
          "base_uri": "https://localhost:8080/",
          "height": 35
        }
      },
      "source": [
        "A = [4,3,4,3,1,2,3]\n",
        "n = len(A)\n",
        "k = max(A)\n",
        "a = 1\n",
        "b = 3\n",
        "print (\"Quantidade de inteiros no intervalo [\",a,\",\",b,\"] :\", cont_intervalo(A,n,k,a,b))"
      ],
      "execution_count": 4,
      "outputs": [
        {
          "output_type": "stream",
          "text": [
            "Quantidade de inteiros no intervalo [ 1 , 3 ] : 5\n"
          ],
          "name": "stdout"
        }
      ]
    },
    {
      "cell_type": "markdown",
      "metadata": {
        "id": "UzoV5bT_fXyy"
      },
      "source": [
        "## 4. Algoritmo RadixSort\n",
        "\n",
        "### 4.1 Execução do Algoritmo\n",
        "\n",
        "Ordena os dígitos menos significantes até os mais significantes.\n",
        "No exemplo abaixo são 8 números com 3 dígitos. \n",
        "\n",
        "<img src = \"https://raw.githubusercontent.com/BrunaFerreira/Mestrado_Analise_Algoritmo/master/images/radix_3.JPG\" width = \"300\" /> \n",
        "\n",
        "### 4.2 Consumo de tempo \n",
        "Em que 1 é o dígito menos significativo\n",
        "O consumo de tempo depende do algoritmo intermediário.\n",
        "Se cada dígito está no intervalo de 0 a k-1 e k não é muito grande podemos usar ordenação por contagem.\n",
        "Se d é uma constante e k=O(n),Radixsort é linear.\n",
        "\n",
        "<img src = \"https://raw.githubusercontent.com/BrunaFerreira/Mestrado_Analise_Algoritmo/master/images/radix_4.JPG\" width = \"300\" /> \n",
        "\n",
        "## 5. Bucketsort\n",
        "\n",
        "Elementos a serem ordenados foram gerados aleatoriamente de forma uniforme no intervalo [0,1).\n",
        "\n",
        "A ideia básica é:\n",
        "- Dividir o intervalo em n buckets.\n",
        "- Distribuir os n números entre os buckets.\n",
        "- Ordenar os números em cada bucket usando ordenação por inserção.\n",
        "- No final os elementos estarão ordenados.\n",
        "\n",
        "<img src = \"https://raw.githubusercontent.com/BrunaFerreira/Mestrado_Analise_Algoritmo/master/images/bucket_1.JPG\" width = \"350\" /> \n",
        "\n",
        "Se as entradas forem uniformemente distribuídas, então o número esperado de\n",
        "elementos em cada bucket é Θ (1). Logo o consumo de tempo esperado para ordenar cada bucket é Θ(1).\n",
        "\n",
        "O consumo de tempo do Bucketsort é Θ(n).\n"
      ]
    }
  ]
}