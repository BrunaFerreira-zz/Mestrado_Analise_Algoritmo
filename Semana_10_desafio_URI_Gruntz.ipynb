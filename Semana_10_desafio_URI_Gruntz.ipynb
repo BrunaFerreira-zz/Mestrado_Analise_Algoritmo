{
  "nbformat": 4,
  "nbformat_minor": 0,
  "metadata": {
    "colab": {
      "name": "Semana_10_desafio_URI_Gruntz",
      "provenance": [],
      "collapsed_sections": [],
      "authorship_tag": "ABX9TyPK8ZrD4OFdWBEPAImJNuZr",
      "include_colab_link": true
    },
    "kernelspec": {
      "name": "python3",
      "display_name": "Python 3"
    }
  },
  "cells": [
    {
      "cell_type": "markdown",
      "metadata": {
        "id": "view-in-github",
        "colab_type": "text"
      },
      "source": [
        "<a href=\"https://colab.research.google.com/github/BrunaFerreira/Mestrado_Analise_Algoritmo/blob/master/Semana_10_desafio_URI_Gruntz.ipynb\" target=\"_parent\"><img src=\"https://colab.research.google.com/assets/colab-badge.svg\" alt=\"Open In Colab\"/></a>"
      ]
    },
    {
      "cell_type": "code",
      "metadata": {
        "id": "N25fOfzAZh6C"
      },
      "source": [
        "def verifica_impar(numero):\n",
        "  if(numero % 2 == 0):\n",
        "    return False\n",
        "  return True"
      ],
      "execution_count": 1,
      "outputs": []
    },
    {
      "cell_type": "code",
      "metadata": {
        "id": "D4Q9tX1lWLlm"
      },
      "source": [
        "def inverte_seta (matriz,x,y,k):\n",
        "  if (k>0 and matriz[x][y]=='>'):\n",
        "    matriz[x][y]=='<'\n",
        "\n",
        "  elif (k>0 and matriz[x][y]=='<'):\n",
        "    matriz[x][y]=='>'\n",
        "\n",
        "  elif (k>0 and matriz[x][y]=='^'):\n",
        "    matriz[x][y]=='v'\n",
        "  \n",
        "  elif (k>0 and matriz[x][y]=='v'):\n",
        "    matriz[x][y]=='^'\n",
        "  \n",
        "  else:\n",
        "    matriz[x][y]==matriz[x][y]\n",
        "\n",
        "  return matriz"
      ],
      "execution_count": 2,
      "outputs": []
    },
    {
      "cell_type": "code",
      "metadata": {
        "id": "ucz2ani2HNyq"
      },
      "source": [
        "import numpy as np\n",
        "import datetime"
      ],
      "execution_count": 3,
      "outputs": []
    },
    {
      "cell_type": "code",
      "metadata": {
        "id": "o1tD5JXdRvCL"
      },
      "source": [
        "def print_matriz(n,m,matriz):\n",
        "  for i in range (n):\n",
        "    for j in range(m):\n",
        "      print(matriz[i][j], end = \" \")\n",
        "    print()\n",
        "  print(\"\\n \\n\")"
      ],
      "execution_count": 4,
      "outputs": []
    },
    {
      "cell_type": "code",
      "metadata": {
        "id": "MSC691PeQ4gd"
      },
      "source": [
        "  def verifica_posicao (x,y,n,m,matriz):\n",
        "    # Verificar se a posição gerada é válida, se não ultrapassa o limite do tabuleiro. \n",
        "    # Verificar também se a posição ainda não foi visitada\n",
        "    if (x >= 0 and x < n and y >= 0 and y <m ):\n",
        "      return True\n",
        "    return False"
      ],
      "execution_count": 5,
      "outputs": []
    },
    {
      "cell_type": "code",
      "metadata": {
        "id": "CD0cp3dkv-qx"
      },
      "source": [
        "def proxima_posicao (x,y,seta):\n",
        "  if (seta == '>'):\n",
        "    nx = x\n",
        "    ny = y+1\n",
        "  elif (seta == '<'):\n",
        "    nx = x\n",
        "    ny = y-1\n",
        "  elif (seta == '^'):\n",
        "    nx = x+1\n",
        "    ny = y\n",
        "  elif (seta == 'v'):\n",
        "    nx = x-1\n",
        "    ny = y\n",
        "  return nx,ny"
      ],
      "execution_count": 6,
      "outputs": []
    },
    {
      "cell_type": "code",
      "metadata": {
        "id": "0gQe0VIi7HxB"
      },
      "source": [
        "def lista_bordas (n,m):\n",
        "  vetor = []\n",
        "  for i in range (n):\n",
        "    for j in range (m):\n",
        "      if (i == 0 or i == n-1):\n",
        "        x = i\n",
        "        y = j\n",
        "        vetor.append([x,y])\n",
        "\n",
        "  for j in range (m):\n",
        "    for i in  range (n):\n",
        "      if ( j == 0 or j == m-1):\n",
        "        x = i\n",
        "        y = j\n",
        "        if [x,y] not in vetor:\n",
        "          vetor.append([x,y])\n",
        "\n",
        "  return vetor"
      ],
      "execution_count": 7,
      "outputs": []
    },
    {
      "cell_type": "code",
      "metadata": {
        "id": "ZgLxwxge-jvp"
      },
      "source": [
        "def Gruntz(matriz,n,m,x,y,k): \n",
        "  # Se ao sair da borda e chegar no meio\n",
        "  if (matriz[x][y]=='X'):\n",
        "    return True\n",
        "  else:\n",
        "    seta = matriz[x][y] \n",
        "    (nx,ny) = proxima_posicao(x,y,seta)\n",
        "    # Verificar se a posição gerada é válida, se não ultrapassa o limite do tabuleiro. \n",
        "    # Verificar também se a posição ainda não foi visitada\n",
        "    if (verifica_posicao(nx,ny,n,m,matriz)):\n",
        "      # Chama método para nova posição\n",
        "      if (Gruntz(matriz,n,m,nx,ny,k)):\n",
        "        return True\n",
        "    return False"
      ],
      "execution_count": 8,
      "outputs": []
    },
    {
      "cell_type": "code",
      "metadata": {
        "id": "jvZX1W5OO-_V"
      },
      "source": [
        "def solucao_Gruntz(matriz,n,m,k):\n",
        "  bordas = lista_bordas(n,m)\n",
        "  for i in range(len(bordas)):\n",
        "    x = bordas[i][0]\n",
        "    y = bordas[i][1]\n",
        "    if (Gruntz(matriz,5,5,x,y,0)):\n",
        "      print(Gruntz(matriz,n,m,x,y,0))\n",
        "      print(\"Para posição: (\",x,\",\",y,\") há solução.\")\n",
        "      return \n",
        "  return False"
      ],
      "execution_count": 9,
      "outputs": []
    },
    {
      "cell_type": "code",
      "metadata": {
        "id": "K6zNw181l2Bu"
      },
      "source": [
        "def le_matriz(m, n):\n",
        "  print(\"Digite os elementos da matriz de tamanho %dx%d:\" %(m,n))\n",
        "  matriz = []\n",
        "  for i in range(m):\n",
        "    matriz.append([])\n",
        "    for j in range(n):\n",
        "      elemento = input(\"Elemento da %da. linha, %da. coluna: \" %(i+1,j+1))\n",
        "      matriz[i].append(elemento)          \n",
        "    return matriz"
      ],
      "execution_count": 10,
      "outputs": []
    },
    {
      "cell_type": "code",
      "metadata": {
        "id": "M1LIoyIlk6g6"
      },
      "source": [
        ""
      ],
      "execution_count": 10,
      "outputs": []
    },
    {
      "cell_type": "code",
      "metadata": {
        "id": "RVoT133xSGzR",
        "outputId": "13d810a2-7a36-4d56-d6cb-66465fbda6fa",
        "colab": {
          "base_uri": "https://localhost:8080/"
        }
      },
      "source": [
        "matriz = [\n",
        "          ['>','>','v','<','<'],\n",
        "          ['>','>','v','<','<'],\n",
        "          ['>','>','X','<','<'],\n",
        "          ['>','>','^','<','<'],\n",
        "          ['>','>','^','<','<'],\n",
        "         ]\n",
        "print_matriz(5,5,matriz)\n",
        "solucao_Gruntz(matriz,5,5,0)\n"
      ],
      "execution_count": 11,
      "outputs": [
        {
          "output_type": "stream",
          "text": [
            "> > v < < \n",
            "> > v < < \n",
            "> > X < < \n",
            "> > ^ < < \n",
            "> > ^ < < \n",
            "\n",
            " \n",
            "\n",
            "True\n",
            "Para posição: ( 2 , 0 ) há solução.\n"
          ],
          "name": "stdout"
        }
      ]
    }
  ]
}