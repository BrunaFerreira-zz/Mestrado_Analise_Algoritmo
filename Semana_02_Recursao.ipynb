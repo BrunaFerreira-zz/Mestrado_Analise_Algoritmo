{
 "cells": [
  {
   "cell_type": "code",
   "execution_count": 1,
   "metadata": {},
   "outputs": [],
   "source": [
    "import pandas as pd\n",
    "import numpy as np"
   ]
  },
  {
   "cell_type": "markdown",
   "metadata": {},
   "source": [
    "## Algoritmos de Busca \n",
    "* ### Busca Recursiva"
   ]
  },
  {
   "cell_type": "code",
   "execution_count": 2,
   "metadata": {},
   "outputs": [],
   "source": [
    "def encontra (A,n,x):\n",
    "    if n == 0 :\n",
    "        return 1\n",
    "    elif (A[n-1]<x):\n",
    "        return n\n",
    "    else:\n",
    "        return encontra(A,n-1,x)"
   ]
  },
  {
   "cell_type": "code",
   "execution_count": 3,
   "metadata": {},
   "outputs": [
    {
     "data": {
      "text/plain": [
       "2"
      ]
     },
     "execution_count": 3,
     "metadata": {},
     "output_type": "execute_result"
    }
   ],
   "source": [
    "A = [10,20,30,40]\n",
    "n = 4\n",
    "x = 25\n",
    "valor = encontra(A,n,x)\n",
    "valor"
   ]
  },
  {
   "cell_type": "markdown",
   "metadata": {},
   "source": [
    "* ### Busca Binária Interativa"
   ]
  },
  {
   "cell_type": "code",
   "execution_count": 4,
   "metadata": {},
   "outputs": [],
   "source": [
    "def buscaBinariaIterativa (A,n,x):\n",
    "    esq = 1\n",
    "    dire = n\n",
    "    print(n)\n",
    "    while(esq <= dire):\n",
    "        print(\"esq:\",esq)\n",
    "        print(\"dir:\",dire)\n",
    "        meio = int((esq + dire)/2)\n",
    "        if (x == A[meio-1]):\n",
    "            return meio\n",
    "        elif (A[meio-1] < x):\n",
    "            esq = meio + 1\n",
    "        else:\n",
    "            dire = meio -1\n",
    "    return dire+1"
   ]
  },
  {
   "cell_type": "code",
   "execution_count": 5,
   "metadata": {},
   "outputs": [
    {
     "name": "stdout",
     "output_type": "stream",
     "text": [
      "6\n",
      "esq: 1\n",
      "dir: 6\n",
      "esq: 4\n",
      "dir: 6\n",
      "esq: 4\n",
      "dir: 4\n"
     ]
    },
    {
     "data": {
      "text/plain": [
       "4"
      ]
     },
     "execution_count": 5,
     "metadata": {},
     "output_type": "execute_result"
    }
   ],
   "source": [
    "A = [10,20,30,40,50,60]\n",
    "n = 6\n",
    "x = 35\n",
    "valor = buscaBinariaIterativa(A,n,x)\n",
    "valor"
   ]
  },
  {
   "cell_type": "markdown",
   "metadata": {},
   "source": [
    "* ### Busca Binária Recursiva"
   ]
  },
  {
   "cell_type": "code",
   "execution_count": 6,
   "metadata": {},
   "outputs": [],
   "source": [
    "def buscaBinariaRec (A,esq,dire,x):\n",
    "    if (esq > dire):\n",
    "        return -1\n",
    "    else:\n",
    "        print(\"esq:\",esq)\n",
    "        print(\"dir:\",dire)\n",
    "        meio = int((esq + dire)/2)\n",
    "        if (x == A[meio-1]):\n",
    "            return meio\n",
    "        else:\n",
    "            if(x < A[meio -1]):\n",
    "                return buscaBinariaRec(A,esq,dire-1,x)\n",
    "            else: \n",
    "                return buscaBinariaRec(A,esq+1,dire,x)"
   ]
  },
  {
   "cell_type": "code",
   "execution_count": 7,
   "metadata": {
    "scrolled": true
   },
   "outputs": [
    {
     "name": "stdout",
     "output_type": "stream",
     "text": [
      "esq: 1\n",
      "dir: 1\n"
     ]
    },
    {
     "data": {
      "text/plain": [
       "-1"
      ]
     },
     "execution_count": 7,
     "metadata": {},
     "output_type": "execute_result"
    }
   ],
   "source": [
    "A = [5]\n",
    "n = 1\n",
    "x = 10\n",
    "valor = buscaBinariaRec(A,1,1,x)\n",
    "valor"
   ]
  },
  {
   "cell_type": "markdown",
   "metadata": {},
   "source": [
    "## Soma de positivos"
   ]
  },
  {
   "cell_type": "code",
   "execution_count": 8,
   "metadata": {},
   "outputs": [],
   "source": [
    "def somaPositivos (A, n):\n",
    "    if(n == 0):\n",
    "        return 0\n",
    "    else:\n",
    "        s = somaPositivos(A,n-1)\n",
    "        print(\"N1 \", n)\n",
    "        if (A[n-1] > 0):\n",
    "            print(\"N2 \", n)\n",
    "            return s + A[n-1]\n",
    "        else:\n",
    "            print(\"N3 \", n)\n",
    "            return s"
   ]
  },
  {
   "cell_type": "code",
   "execution_count": 11,
   "metadata": {},
   "outputs": [
    {
     "name": "stdout",
     "output_type": "stream",
     "text": [
      "N1  1\n",
      "N2  1\n",
      "N1  2\n",
      "N2  2\n",
      "N1  3\n",
      "N2  3\n",
      "N1  4\n",
      "N3  4\n"
     ]
    },
    {
     "data": {
      "text/plain": [
       "12"
      ]
     },
     "execution_count": 11,
     "metadata": {},
     "output_type": "execute_result"
    }
   ],
   "source": [
    "A=[3,5,4,-1] \n",
    "n = 4\n",
    "\n",
    "x = somaPositivos(A,n)\n",
    "x"
   ]
  },
  {
   "cell_type": "markdown",
   "metadata": {},
   "source": [
    "## Potência Exata de Dois"
   ]
  },
  {
   "cell_type": "code",
   "execution_count": 13,
   "metadata": {},
   "outputs": [],
   "source": [
    "def pot2 (n):\n",
    "    if (n%2 != 0 or n == 0):\n",
    "        return False\n",
    "    contador = 1\n",
    "    while(n != 2):\n",
    "        n = n/2\n",
    "        if (n%2 == 0):\n",
    "            contador = contador + 1\n",
    "        else:\n",
    "            return False\n",
    "    return True"
   ]
  },
  {
   "cell_type": "code",
   "execution_count": 29,
   "metadata": {},
   "outputs": [],
   "source": [
    "def m(n):\n",
    "    print(\"Chamada \", n, \" \")\n",
    "    if(n <= 1): \n",
    "        return\n",
    "    if(pot2(n)):\n",
    "        \n",
    "        m(n/2)\n",
    "        \n",
    "        m(n/2)\n",
    "    elif (n % 2 == 0):\n",
    "        print(\"Chama3\")\n",
    "        m(n - 1)\n",
    "    else:\n",
    "        print(\"Chama4\")\n",
    "        m(n - 2)\n",
    "    "
   ]
  },
  {
   "cell_type": "code",
   "execution_count": 30,
   "metadata": {},
   "outputs": [
    {
     "name": "stdout",
     "output_type": "stream",
     "text": [
      "Chamada  16  \n",
      "Chamada  8.0  \n",
      "Chamada  4.0  \n",
      "Chamada  2.0  \n",
      "Chamada  1.0  \n",
      "Chamada  1.0  \n",
      "Chamada  2.0  \n",
      "Chamada  1.0  \n",
      "Chamada  1.0  \n",
      "Chamada  4.0  \n",
      "Chamada  2.0  \n",
      "Chamada  1.0  \n",
      "Chamada  1.0  \n",
      "Chamada  2.0  \n",
      "Chamada  1.0  \n",
      "Chamada  1.0  \n",
      "Chamada  8.0  \n",
      "Chamada  4.0  \n",
      "Chamada  2.0  \n",
      "Chamada  1.0  \n",
      "Chamada  1.0  \n",
      "Chamada  2.0  \n",
      "Chamada  1.0  \n",
      "Chamada  1.0  \n",
      "Chamada  4.0  \n",
      "Chamada  2.0  \n",
      "Chamada  1.0  \n",
      "Chamada  1.0  \n",
      "Chamada  2.0  \n",
      "Chamada  1.0  \n",
      "Chamada  1.0  \n"
     ]
    }
   ],
   "source": [
    "m(16)"
   ]
  },
  {
   "cell_type": "code",
   "execution_count": 23,
   "metadata": {},
   "outputs": [
    {
     "name": "stdout",
     "output_type": "stream",
     "text": [
      "8  \n",
      "4.0  \n",
      "2.0  \n",
      "1.0  \n",
      "1.0  \n",
      "2.0  \n",
      "1.0  \n",
      "1.0  \n",
      "4.0  \n",
      "2.0  \n",
      "1.0  \n",
      "1.0  \n",
      "2.0  \n",
      "1.0  \n",
      "1.0  \n",
      "11  \n",
      "9  \n",
      "7  \n",
      "5  \n",
      "3  \n",
      "1  \n",
      "9  \n",
      "7  \n",
      "5  \n",
      "3  \n",
      "1  \n"
     ]
    }
   ],
   "source": [
    "m(8)\n",
    "m(11)\n",
    "m(9)"
   ]
  },
  {
   "cell_type": "code",
   "execution_count": null,
   "metadata": {},
   "outputs": [],
   "source": []
  }
 ],
 "metadata": {
  "kernelspec": {
   "display_name": "Python 3",
   "language": "python",
   "name": "python3"
  },
  "language_info": {
   "codemirror_mode": {
    "name": "ipython",
    "version": 3
   },
   "file_extension": ".py",
   "mimetype": "text/x-python",
   "name": "python",
   "nbconvert_exporter": "python",
   "pygments_lexer": "ipython3",
   "version": "3.7.4"
  }
 },
 "nbformat": 4,
 "nbformat_minor": 2
}
