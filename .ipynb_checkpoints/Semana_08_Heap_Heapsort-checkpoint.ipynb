{
 "cells": [
  {
   "cell_type": "code",
   "execution_count": 1,
   "metadata": {},
   "outputs": [],
   "source": [
    "# Aluna: Bruna Ferreira"
   ]
  },
  {
   "cell_type": "markdown",
   "metadata": {},
   "source": [
    "## 1. Heap \n",
    "\n",
    "### 1.1 Definição :\n",
    "Estrutura de dados que pode ser visualizada como uma árvore binária quase completa.\n",
    "\n",
    "### 1.2. Propriedades:\n",
    "- A árvore é completa até o penúltimo nível.\n",
    "- No último nível as folhas estão o mais à esquerda possível.\n",
    "- O conteúdo de um nó é menor ou igual que o conteúdo de suas subárvores (min-heap).\n",
    "\n",
    "### 1.3. Estrutura de dados:\n",
    "A árvore Heap pode ser escrita como um vetor, veja o exemplo abaixo:\n",
    "    \n",
    "| Posição |  1  |  2  |  3  |  4  |  5  |   6 |   7 | 8   | 9   |\n",
    "|---------|-----|-----|-----|-----|-----|-----|-----|-----|-----|\n",
    "|  Vetor  | 100 |  19 |  36 |  17 |  3  |  25 |  1  |  2  |  7  |\n",
    "\n",
    "\n",
    "<img style=\"float: left;\" width='300' src=\"https://upload.wikimedia.org/wikipedia/commons/thumb/3/38/Max-Heap.svg/1200px-Max-Heap.svg.png\"/ />\n",
    "\n",
    "\n",
    "Para todo nó i: \n",
    "    - |i/2| é o pai\n",
    "    - 2i é o filho da esquerda \n",
    "    - 2i+1 é o filho da direita \n",
    "    - A|i/2| >= A|i|, garante que o nó pai sempre será maior que o filho e que o maior elemento está na raiz\n",
    " \n",
    "Nível\n",
    "    - Cada nível p tem 2 ^ p nós, exceto último nível. \n",
    "      Exemplo: nível 2 = 2^2 =  4\n",
    "\n",
    "\n",
    "### 1.4. Construindo Árvore Max - Heap\n",
    "<img style=\"float: left;\" src=\"https://github.com/BrunaFerreira/Mestrado_Analise_Algoritmo/blob/master/images/heap.JPG?raw=true\" width=\"900\" /><br>"
   ]
  },
  {
   "cell_type": "markdown",
   "metadata": {},
   "source": [
    "<img style=\"float: left;\" src=\"https://github.com/BrunaFerreira/Mestrado_Analise_Algoritmo/blob/master/images/heap_2.JPG?raw=true\" width=\"300\" />"
   ]
  },
  {
   "cell_type": "markdown",
   "metadata": {},
   "source": [
    "### 1.5. Consumo de Tempo\n",
    "\n",
    "<img src=\"https://github.com/BrunaFerreira/Mestrado_Analise_Algoritmo/blob/master/images/heap_consumo_tempo.JPG?raw=true\" widht = '700' />"
   ]
  },
  {
   "cell_type": "markdown",
   "metadata": {},
   "source": [
    "### 1.6 Implementação do Algoritmo"
   ]
  },
  {
   "cell_type": "code",
   "execution_count": 2,
   "metadata": {},
   "outputs": [],
   "source": [
    "import pandas as pd\n",
    "import numpy as np"
   ]
  },
  {
   "cell_type": "code",
   "execution_count": 3,
   "metadata": {},
   "outputs": [],
   "source": [
    "# Função usada para manter os nós das arvores com propriedade de max-heap\n",
    "def max_heapify(A,n,i):\n",
    "    # +1 , porque o index do python começa em 0\n",
    "    esquerdo = 2 * i+1\n",
    "    direito = 2 * i + 2\n",
    "    \n",
    "    if esquerdo < n and A[esquerdo] > A[i]:\n",
    "        maior = esquerdo\n",
    "    else:\n",
    "        maior = i\n",
    "        \n",
    "    if direito < n and A[direito] > A[maior]:\n",
    "        maior = direito\n",
    "        \n",
    "    if maior != i:\n",
    "        A[i], A[maior] = A[maior], A[i]\n",
    "        max_heapify(A,n, maior)"
   ]
  },
  {
   "cell_type": "code",
   "execution_count": 4,
   "metadata": {},
   "outputs": [],
   "source": [
    "# Função para construção do vetor Heap, com propriedades Max-Heap\n",
    "def build_max_heap(A,n):\n",
    "    for i in range(int((n // 2)-1), -1, -1):\n",
    "        max_heapify(A,n,i)\n",
    "    print(\"Max_Heap Construida:\", A)"
   ]
  },
  {
   "cell_type": "markdown",
   "metadata": {},
   "source": [
    "#### 1.6.1 Exemplo"
   ]
  },
  {
   "cell_type": "code",
   "execution_count": 5,
   "metadata": {},
   "outputs": [
    {
     "name": "stdout",
     "output_type": "stream",
     "text": [
      "Max_Heap Construida: [18, 17, 14, 16, 12, 13, 11, 15, 8]\n"
     ]
    }
   ],
   "source": [
    "vetor = [8,18,14,17,12,13,11,15,16]\n",
    "n = len(vetor)\n",
    "build_max_heap(vetor,n)"
   ]
  },
  {
   "cell_type": "markdown",
   "metadata": {},
   "source": [
    "## 2. Heapsort \n",
    "\n",
    "### 2.1 Definição :\n",
    "\n",
    "Algoritmo que ordena os dados de um vetor usando conceito de Heap. \n",
    "\n",
    "### 2.2 Execução do Algoritmo:\n",
    "1. construção do heap máximo\n",
    "2. troca a raiz com o elemento da última posição do vetor \n",
    "  * Elemento maior do heap máximo está na raiz, portanto sabemos sua posição certa no vetor, que é a última posição). \n",
    "3. diminui o tamanho do heap em 1\n",
    "4. rearranjar o heap máximo, caso necessário\n",
    "5. repetir os três últimos passos n-1 vezes. \n",
    "\n",
    "### 2.3 Exemplo:\n",
    "\n",
    "<img src=\"https://github.com/BrunaFerreira/Mestrado_Analise_Algoritmo/blob/master/images/heap_sort_1.JPG?raw=true\" />\n",
    "<img src=\"https://github.com/BrunaFerreira/Mestrado_Analise_Algoritmo/blob/master/images/heap_sort_2.JPG?raw=true\" />\n",
    "\n",
    "\n",
    "### 2.4 Consumo de Tempo\n",
    "\n",
    "O algoritmo MAX-HEAPIFY consome O(log n) mas como está dentro do for, consome n * O (log n). \n",
    "\n",
    "<img src=\"https://github.com/BrunaFerreira/Mestrado_Analise_Algoritmo/blob/master/images/heap_sort_tempo.JPG?raw=true\" style=\"float: left;\"  width = \"400\" />"
   ]
  },
  {
   "cell_type": "markdown",
   "metadata": {},
   "source": [
    "### 2.5 Implementação"
   ]
  },
  {
   "cell_type": "code",
   "execution_count": 6,
   "metadata": {},
   "outputs": [],
   "source": [
    "# Função para extrair a raiz (maior elemento) da arvore Heap\n",
    "def heap_extract_max(A,n):\n",
    "    if(n<0):\n",
    "        return \n",
    "    _max = A[0]\n",
    "    A[0] = A[n-1]\n",
    "    n = n-2\n",
    "    max_heapify(A,n,0)\n",
    "    return _max  "
   ]
  },
  {
   "cell_type": "code",
   "execution_count": 7,
   "metadata": {},
   "outputs": [],
   "source": [
    "def heapsort (A,n):\n",
    "    index = 0\n",
    "    B = []\n",
    "    build_max_heap(A,n)\n",
    "    for i in range (n-1, -1, -1):\n",
    "        A[0], A[i] = A[i], A[0]\n",
    "        B.insert(index, A[i])\n",
    "        n = n-1\n",
    "        index = index + 1\n",
    "        max_heapify(A,n,0)\n",
    "    print(\"Vetor Ordenado por Heapsort\", B)"
   ]
  },
  {
   "cell_type": "markdown",
   "metadata": {},
   "source": [
    "### Exemplo"
   ]
  },
  {
   "cell_type": "code",
   "execution_count": 8,
   "metadata": {},
   "outputs": [
    {
     "name": "stdout",
     "output_type": "stream",
     "text": [
      "Max_Heap Construida: [35, 21, 13, 17, 3]\n",
      "Vetor Ordenado por Heapsort [35, 21, 17, 13, 3]\n"
     ]
    }
   ],
   "source": [
    "vetor_A = [35,21,13,17,3]\n",
    "n_A = len(vetor_A)\n",
    "heapsort(vetor_A,n_A)"
   ]
  },
  {
   "cell_type": "code",
   "execution_count": 9,
   "metadata": {},
   "outputs": [],
   "source": [
    "# Função que retorna os k maiores elementos do vetor A\n",
    "# Entrada : vetor de números inteiros A[1...n] \n",
    "#           número inteiro positivo k \n",
    "# Saida :   vetor B[1...k] \n",
    "def maiores(A,n,k):\n",
    "    B = []\n",
    "    build_max_heap(A,n)\n",
    "    for i in range (0,k):\n",
    "        # inclui o maior elemento na posição i do vetor B\n",
    "        B.insert(i,heap_extract_max(A,n))\n",
    "        n = n-1\n",
    "    return B"
   ]
  },
  {
   "cell_type": "code",
   "execution_count": 10,
   "metadata": {},
   "outputs": [],
   "source": [
    "vetor_B = [27,18,14,17,12,13,11,15,16]\n",
    "n_B = len(vetor_B)\n",
    "k = 5"
   ]
  },
  {
   "cell_type": "code",
   "execution_count": 11,
   "metadata": {
    "scrolled": true
   },
   "outputs": [
    {
     "name": "stdout",
     "output_type": "stream",
     "text": [
      "Max_Heap Construida: [27, 18, 14, 17, 12, 13, 11, 15, 16]\n",
      "5 maiores valores:  [27, 18, 17, 16, 15]\n"
     ]
    }
   ],
   "source": [
    "vetor_saida = maiores(vetor_B,n_B,k)\n",
    "print(k, \"maiores valores: \",vetor_saida)"
   ]
  },
  {
   "cell_type": "markdown",
   "metadata": {},
   "source": [
    "### Referências \n",
    "#### Heap \n",
    "* <a href=\"https://www.ime.usp.br/~pf/analise_de_algoritmos/aulas/heap.html\" > Link 1 </a> \n",
    "* <a href= \"https://www.ime.usp.br/~pf/analise_de_algoritmos/aulas/heap.html#timeofbuildheap\"> Link 2 </a> \n",
    "* <a href= \"https://www.ime.usp.br/~coelho/algoritmos/aulas/material/aula8.pdf\"> Link 3 </a> \n",
    "* <a href= \"https://www.ic.unicamp.br/~rezende/ensino/mo417/2010s2/Slides/Aula9.pdf\"> Link 4 </a> \n",
    "\n",
    "#### Heapsort\n",
    "* <a href= \"https://www.ime.usp.br/~pf/analise_de_algoritmos/aulas/hpsrt.html\"> Link 1 </a> \n",
    "* <a href= \"https://www.inf.ufsc.br/~alexandre.goncalves.silva/courses/18s1/ine410104/slides/aula0420.pdf\"> Link 2 </a> \n",
    "* <a href= \"http://www.facom.ufms.br/~marco/aed22008/aula06_4.pdf\"> Link 3 </a> \n",
    "\n",
    "#### Quicksort\n",
    "* <a href= \"https://www.ime.usp.br/~pf/analise_de_algoritmos/aulas/quick.html\"> Link 1 </a>\n",
    "\n",
    "### Demais Links\n",
    "\n",
    "* <a href= \"https://www2.dc.ufscar.br/~mario/ensino/2019s1/aed2/aula12.pdf \" > Link 1 </a>\n",
    "\n",
    "* <a href= \"https://www2.unifap.br/furtado/files/2016/11/Aula4.pdf\" > Link 2 </a>\n",
    "\n",
    "* <a href= \"https://www.ic.unicamp.br/~rezende/ensino/mo417/2010s2/Slides/Aula10.pdf\" > Link 3 </a>\n",
    "\n",
    "* <a href= \"http://ww2.inf.ufg.br/~hebert/disc/aed1/AED1_05_ordenacao2.pdf\" > Link 4 </a>\n",
    "* <a href= \"https://www.ime.usp.br/~cris/aulas/13_1_338/slides/aula10.pdf\" > Link 5 </a>\n",
    "\n",
    "* <a href= \"https://www.ime.usp.br/~pf/algoritmos/aulas/radix.html\" > Radix </a>\n",
    "\n",
    "* <a href= \"http://www.romulosilvadeoliveira.eng.br/discipli/cad-fei/Aula-EstruturasDados-14f-Ordenacao.pdf\" > Ordenação </a>"
   ]
  },
  {
   "cell_type": "code",
   "execution_count": null,
   "metadata": {},
   "outputs": [],
   "source": []
  }
 ],
 "metadata": {
  "kernelspec": {
   "display_name": "Python 3",
   "language": "python",
   "name": "python3"
  },
  "language_info": {
   "codemirror_mode": {
    "name": "ipython",
    "version": 3
   },
   "file_extension": ".py",
   "mimetype": "text/x-python",
   "name": "python",
   "nbconvert_exporter": "python",
   "pygments_lexer": "ipython3",
   "version": "3.7.4"
  }
 },
 "nbformat": 4,
 "nbformat_minor": 2
}
