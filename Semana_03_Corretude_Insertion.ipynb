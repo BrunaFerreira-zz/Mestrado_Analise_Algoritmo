{
 "cells": [
  {
   "cell_type": "code",
   "execution_count": null,
   "metadata": {},
   "outputs": [],
   "source": [
    "## Autor: Bruna Ferreira\n",
    "## Matéria: Análise de Algoritmo 2/2020, EACH\n",
    "import pandas as pd\n",
    "import numpy as np\n",
    "import time"
   ]
  },
  {
   "cell_type": "markdown",
   "metadata": {},
   "source": [
    "## 1. Maior Elemento de um vetor"
   ]
  },
  {
   "cell_type": "code",
   "execution_count": null,
   "metadata": {},
   "outputs": [],
   "source": [
    "def maximoRec (vet,n):\n",
    "    if (n == 1):\n",
    "        return vet[n-1]\n",
    "    else:\n",
    "        x = maximoRec (vet, n-1) ## x é o máximo\n",
    "        if (x > vet[n-1]):\n",
    "            return x\n",
    "        else:\n",
    "            return vet[n-1]"
   ]
  },
  {
   "cell_type": "code",
   "execution_count": null,
   "metadata": {},
   "outputs": [],
   "source": [
    "A = [10,30,2,80,22,37]\n",
    "n = len(A)\n",
    "valor = maximoRec(A,n)\n",
    "print (\"Maior:\", valor)"
   ]
  },
  {
   "cell_type": "markdown",
   "metadata": {},
   "source": [
    "## 2. Torre de Hanoi\n",
    "Uma torre de Hanói com três hastes e n discos de diferentes tamanhos. O jogo consiste em mover os discos desde a primeira haste até a última. Em cada passo é permitido mover apenas um disco e um disco só pode ser colocado sobre a base ou sobre um disco maior.\n",
    "![](https://lh3.googleusercontent.com/proxy/Py8PzEn3OqXQzP4G8yg4_4iQxHzIyOsT4PRWo42g-6r6JRZaJsvRh9xGa1DWL_dRHhLS1gO6HmStEPHCsVLAVLR0P7UDEkJ2pScj-3pQpGfFJIaQztwwz8tBnrzAUGruZuew5mPvKO_zf8GsoexFa_0yBw)"
   ]
  },
  {
   "cell_type": "code",
   "execution_count": null,
   "metadata": {},
   "outputs": [],
   "source": [
    "def Hanoi (ori,dst,aux,n):\n",
    "    if(n==1):\n",
    "        print(\"Move de\",ori,\"para\",dst)\n",
    "    else:\n",
    "        Hanoi(ori,aux,dst,n-1)\n",
    "        Hanoi(ori,dst,aux,1)\n",
    "        Hanoi(aux,dst,ori,n-1)"
   ]
  },
  {
   "cell_type": "markdown",
   "metadata": {},
   "source": [
    "### Caso base :\n",
    "Só tem um disco, n = 1, um único movimento é requerido (Move origem para destino).\n",
    "\n",
    "Para n = 1, 2n -1 => 21 – 1 => 2-1 = 1\n",
    "\n",
    "Portanto, algoritmo funciona para caso base (n=1).\n",
    "\n",
    "![](https://lh3.googleusercontent.com/proxy/3htIf0azQZxNi57T7wwwhqwiJGKzT2lAKITi5SUFZvpGfBglU6iLO2RTnNhpdlouuVQuLbzxT2GDPSKR55pL2kqvYrqUl2S6dbFE2IrjXCrWAHQulBC0oeD3OUthJkltjI1aIJU)"
   ]
  },
  {
   "cell_type": "code",
   "execution_count": null,
   "metadata": {},
   "outputs": [],
   "source": [
    "Hanoi('origem','destino','trabalho',1)"
   ]
  },
  {
   "cell_type": "markdown",
   "metadata": {},
   "source": [
    "### Passo de indução: \n",
    "\n",
    "É preciso provar que se para n = k discos, o número de movimentos é 2^k-1, então para n = k+1, o número mínimo de movimentos é 2^(k+1) – 1.\n",
    "\n",
    "2 * (k) +1 ,  onde k vale 2k - 1 (caso base).\n",
    "\n",
    "2 *(k) + 1\n",
    "\n",
    "2 * (2k ​- 1) + 1 =>  2(k+1) -2 +1 = 2(k+1) -1 movimentos mínimos, com k+1 discos.\n",
    "\n",
    "Portanto por hipótese de indução, para n > 1, o algoritmo produz o resultado esperado.\n",
    "\n",
    "<img src=\"https://valtermagalhaes.com.br/wp-content/uploads/2018/04/jogos-matematicos.jpg\" width=\"400\" height=\"300\" />"
   ]
  },
  {
   "cell_type": "code",
   "execution_count": null,
   "metadata": {},
   "outputs": [],
   "source": [
    "Hanoi('origem','destino','trabalho',3)"
   ]
  },
  {
   "cell_type": "markdown",
   "metadata": {},
   "source": [
    "## 3. Ordenação por inserção\n",
    "\n",
    "Insertion Sort ou ordenação por inserção é o método que percorre um vetor de elementos da esquerda para a direita e à medida que avança vai ordenando os elementos à esquerda.  É considerado um método de ordenação estável."
   ]
  },
  {
   "cell_type": "code",
   "execution_count": null,
   "metadata": {},
   "outputs": [],
   "source": [
    "def ordena_por_insercao (A,n):\n",
    "    for j in range (1,n):\n",
    "        chave = A[j]\n",
    "        i = j -1\n",
    "        while (i>=0 and A[i]>chave):\n",
    "            A[i+1] = A[i]\n",
    "            i = i -1\n",
    "            ##print(1)\n",
    "        A[i+1] = chave\n",
    "        print(\"Iteração \" +str(j)+\": \")\n",
    "        print(A)"
   ]
  },
  {
   "cell_type": "code",
   "execution_count": null,
   "metadata": {},
   "outputs": [],
   "source": [
    "A = [4,6,2,10,9,8,15,18,12,5]\n",
    "ordena_por_insercao(A,10)"
   ]
  },
  {
   "cell_type": "code",
   "execution_count": null,
   "metadata": {},
   "outputs": [],
   "source": [
    "A = [1,2,3,4,5,6]\n",
    "ordena_por_insercao(A,6)"
   ]
  },
  {
   "cell_type": "markdown",
   "metadata": {},
   "source": [
    "### Complexidade "
   ]
  },
  {
   "cell_type": "code",
   "execution_count": null,
   "metadata": {},
   "outputs": [],
   "source": [
    "def ordena_por_insercao (A,n):\n",
    "    for j in range (1,n):\n",
    "        chave = A[j]\n",
    "        i = j -1\n",
    "        while (i>=0 and A[i]>chave):\n",
    "            A[i+1] = A[i]\n",
    "            i = i -1\n",
    "        A[i+1] = chave"
   ]
  },
  {
   "cell_type": "markdown",
   "metadata": {},
   "source": [
    " * #### C(n) = O(n) no melhor caso, quando vetor já está ordenado."
   ]
  },
  {
   "cell_type": "code",
   "execution_count": null,
   "metadata": {},
   "outputs": [],
   "source": [
    "inicio = time.time()\n",
    "vet_melhor_caso = np.arange(0,1500,1).tolist()\n",
    "ordena_por_insercao(vet_melhor_caso,1500)\n",
    "fim = time.time()\n",
    "print(\"\\nTempo de Execução Melhor Caso:\" , fim - inicio)"
   ]
  },
  {
   "cell_type": "markdown",
   "metadata": {},
   "source": [
    "* #### C(n) = O(n²) no caso médio e pior caso. \n",
    "\n",
    "Pior Caso ocorre quando vetor está ordenado inversamente."
   ]
  },
  {
   "cell_type": "code",
   "execution_count": null,
   "metadata": {},
   "outputs": [],
   "source": [
    "inicio = time.time()\n",
    "vet_melhor_caso = np.arange(1500,0,-1).tolist()\n",
    "ordena_por_insercao(vet_melhor_caso,1500)\n",
    "fim = time.time()\n",
    "print(\"\\nTempo de Execução Pior Caso:\" , fim - inicio)"
   ]
  },
  {
   "cell_type": "markdown",
   "metadata": {},
   "source": [
    "### Tempo de Processamento\n",
    "\n",
    "* #### Pior caso com diferentes entradas"
   ]
  },
  {
   "cell_type": "code",
   "execution_count": null,
   "metadata": {},
   "outputs": [],
   "source": [
    "valores = [1,50,100,1000,5000,10000]\n",
    "for i in valores:\n",
    "    inicio = time.time()\n",
    "    vet_melhor_caso = np.arange(i,0,-1).tolist()\n",
    "    ordena_por_insercao(vet_melhor_caso,i)\n",
    "    fim = time.time()\n",
    "    print(\"\\nPara n = \",i ,\", tempo de processamento = \", fim - inicio)"
   ]
  },
  {
   "cell_type": "code",
   "execution_count": null,
   "metadata": {},
   "outputs": [],
   "source": []
  }
 ],
 "metadata": {
  "kernelspec": {
   "display_name": "Python 3",
   "language": "python",
   "name": "python3"
  },
  "language_info": {
   "codemirror_mode": {
    "name": "ipython",
    "version": 3
   },
   "file_extension": ".py",
   "mimetype": "text/x-python",
   "name": "python",
   "nbconvert_exporter": "python",
   "pygments_lexer": "ipython3",
   "version": "3.7.4"
  }
 },
 "nbformat": 4,
 "nbformat_minor": 2
}
