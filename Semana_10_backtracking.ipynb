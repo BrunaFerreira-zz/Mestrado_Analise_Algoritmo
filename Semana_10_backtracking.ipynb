{
  "nbformat": 4,
  "nbformat_minor": 0,
  "metadata": {
    "colab": {
      "name": "Semana10_backtracking",
      "provenance": [],
      "collapsed_sections": [],
      "authorship_tag": "ABX9TyMr5ttogBovfj89xxLLPdWr",
      "include_colab_link": true
    },
    "kernelspec": {
      "name": "python3",
      "display_name": "Python 3"
    }
  },
  "cells": [
    {
      "cell_type": "markdown",
      "metadata": {
        "id": "view-in-github",
        "colab_type": "text"
      },
      "source": [
        "<a href=\"https://colab.research.google.com/github/BrunaFerreira/Mestrado_Analise_Algoritmo/blob/master/Semana10_backtracking.ipynb\" target=\"_parent\"><img src=\"https://colab.research.google.com/assets/colab-badge.svg\" alt=\"Open In Colab\"/></a>"
      ]
    },
    {
      "cell_type": "markdown",
      "metadata": {
        "id": "G4zgmgefmNBO"
      },
      "source": [
        "Referências:\n",
        "\n",
        "* <a href = \"https://www.youtube.com/watch?v=WhaEOdEScl0&feature=youtu.be&ab_channel=karinavaldivia\">Aula11BacktrackingI</a>\n",
        "* <a href = \"https://drive.google.com/file/d/1KkzoF7He4yYl10GEGZbB35ZopAHmWrzz/view\">Slides Aula 01 <a/>\n",
        "* <a href = \"https://www.youtube.com/watch?v=ejy8ZrlW7Hk&feature=youtu.be&ab_channel=karinavaldivia\">Aula12BacktrackingII</a>\n",
        "* <a href = \"https://drive.google.com/file/d/1xn8rero1ObEvg0M-7bf42jBcC9ZrtpA5/view\">Slides Aula 02 <a/>\n",
        "\n",
        "\n",
        "Passeio do Cavalo - Knight's tour\n",
        "\n",
        "* <a href=\"https://en.wikipedia.org/wiki/Template:Chess_diagram_4x4\"> Template:Chess diagram 4x4 </a>\n",
        "* <a href=\"https://en.wikipedia.org/wiki/Knight%27s_tour\"> Knight's tour </a>\n",
        "\n",
        "Materiais Complementares\n",
        "* <a href=\"http://dcm.ffclrp.usp.br/~augusto/teaching/icii/Backtracking.pdf\" >Algoritmos Exaustivos</a>\n",
        "* <a href=\"https://www.geeksforgeeks.org/the-knights-tour-problem-backtracking-1/\">The Knight’s tour problem | Backtracking-1</a>"
      ]
    },
    {
      "cell_type": "code",
      "metadata": {
        "id": "ucz2ani2HNyq"
      },
      "source": [
        "#Aluna: Bruna Ferreira\n",
        "import numpy as np\n",
        "import datetime"
      ],
      "execution_count": 1,
      "outputs": []
    },
    {
      "cell_type": "markdown",
      "metadata": {
        "id": "yJTAJhk3k2hw"
      },
      "source": [
        "## <b>Backtracking :</b> \n",
        "\n",
        "Tentativa e erro, é uma tecnica para encontrar uma ou todas soluções de maneira recursiva. \n",
        "\n",
        "### Exemplo 1\n",
        "Dados n alunos e k cadeiras, tal que k <= n. Mostrar todas as configurações possiveis de como podem se sentar.\n",
        "\n",
        "n = 4 e k = 3  \n",
        "\n",
        "4 (opção 1ª cadeira) * 3 (opção 2ª cadeira) * 2 (opção 3ª cadeira) = 24 possibilidades"
      ]
    },
    {
      "cell_type": "markdown",
      "metadata": {
        "id": "WVNuGeXikxyw"
      },
      "source": [
        "### Com repetição, todas as possibilidades"
      ]
    },
    {
      "cell_type": "code",
      "metadata": {
        "id": "bdC_qyl_ulvl"
      },
      "source": [
        "def alocacao_todas_possibilidades (seq,n,k,i):\n",
        "  if (i == k):\n",
        "    print(seq)\n",
        "    return\n",
        "  for a in range (1,n+1):\n",
        "    seq[i] = a\n",
        "    alocacao_todas_possibilidades (seq,n,k,i+1)\n"
      ],
      "execution_count": 2,
      "outputs": []
    },
    {
      "cell_type": "code",
      "metadata": {
        "id": "OCRYnYsUzOXv",
        "outputId": "f5ba10c1-50e8-462a-9b24-a429245c45e5",
        "colab": {
          "base_uri": "https://localhost:8080/",
          "height": 1000
        }
      },
      "source": [
        "seq = [0,0,0]\n",
        "alocacao_todas_possibilidades(seq,4,3,0)"
      ],
      "execution_count": 3,
      "outputs": [
        {
          "output_type": "stream",
          "text": [
            "[1, 1, 1]\n",
            "[1, 1, 2]\n",
            "[1, 1, 3]\n",
            "[1, 1, 4]\n",
            "[1, 2, 1]\n",
            "[1, 2, 2]\n",
            "[1, 2, 3]\n",
            "[1, 2, 4]\n",
            "[1, 3, 1]\n",
            "[1, 3, 2]\n",
            "[1, 3, 3]\n",
            "[1, 3, 4]\n",
            "[1, 4, 1]\n",
            "[1, 4, 2]\n",
            "[1, 4, 3]\n",
            "[1, 4, 4]\n",
            "[2, 1, 1]\n",
            "[2, 1, 2]\n",
            "[2, 1, 3]\n",
            "[2, 1, 4]\n",
            "[2, 2, 1]\n",
            "[2, 2, 2]\n",
            "[2, 2, 3]\n",
            "[2, 2, 4]\n",
            "[2, 3, 1]\n",
            "[2, 3, 2]\n",
            "[2, 3, 3]\n",
            "[2, 3, 4]\n",
            "[2, 4, 1]\n",
            "[2, 4, 2]\n",
            "[2, 4, 3]\n",
            "[2, 4, 4]\n",
            "[3, 1, 1]\n",
            "[3, 1, 2]\n",
            "[3, 1, 3]\n",
            "[3, 1, 4]\n",
            "[3, 2, 1]\n",
            "[3, 2, 2]\n",
            "[3, 2, 3]\n",
            "[3, 2, 4]\n",
            "[3, 3, 1]\n",
            "[3, 3, 2]\n",
            "[3, 3, 3]\n",
            "[3, 3, 4]\n",
            "[3, 4, 1]\n",
            "[3, 4, 2]\n",
            "[3, 4, 3]\n",
            "[3, 4, 4]\n",
            "[4, 1, 1]\n",
            "[4, 1, 2]\n",
            "[4, 1, 3]\n",
            "[4, 1, 4]\n",
            "[4, 2, 1]\n",
            "[4, 2, 2]\n",
            "[4, 2, 3]\n",
            "[4, 2, 4]\n",
            "[4, 3, 1]\n",
            "[4, 3, 2]\n",
            "[4, 3, 3]\n",
            "[4, 3, 4]\n",
            "[4, 4, 1]\n",
            "[4, 4, 2]\n",
            "[4, 4, 3]\n",
            "[4, 4, 4]\n"
          ],
          "name": "stdout"
        }
      ]
    },
    {
      "cell_type": "code",
      "metadata": {
        "id": "YlWU8NiDmEuA"
      },
      "source": [
        "def repetido (vetor,elemento,posicao):\n",
        "  for i in range (0,posicao):\n",
        "    if (vetor[i] == elemento):\n",
        "      return True\n",
        "  return False   "
      ],
      "execution_count": 4,
      "outputs": []
    },
    {
      "cell_type": "code",
      "metadata": {
        "id": "Jo2n4nHsmWfA",
        "outputId": "b1e17df4-d338-4724-b186-30bd9cf522c2",
        "colab": {
          "base_uri": "https://localhost:8080/",
          "height": 34
        }
      },
      "source": [
        "vetor = [2,3,3,5]\n",
        "a = 5\n",
        "posicao = 3\n",
        "repetido(vetor,a,posicao)"
      ],
      "execution_count": 5,
      "outputs": [
        {
          "output_type": "execute_result",
          "data": {
            "text/plain": [
              "False"
            ]
          },
          "metadata": {
            "tags": []
          },
          "execution_count": 5
        }
      ]
    },
    {
      "cell_type": "markdown",
      "metadata": {
        "id": "MjzQvniUsn4v"
      },
      "source": [
        "### Sem repetição, todas as possibilidades"
      ]
    },
    {
      "cell_type": "code",
      "metadata": {
        "id": "SuVkMqmIsn42"
      },
      "source": [
        "def alocacao_sem_repeticao (seq,n,k,i):\n",
        "  if (i == k):\n",
        "    print(seq)\n",
        "    return\n",
        "  for a in range (1,n+1):\n",
        "    if (repetido(seq,a,i)== False):\n",
        "      seq[i] = a\n",
        "      alocacao_sem_repeticao(seq,n,k,i+1)\n"
      ],
      "execution_count": 6,
      "outputs": []
    },
    {
      "cell_type": "code",
      "metadata": {
        "id": "N4BwhH7AnmvX",
        "outputId": "dcce42cd-8958-457c-f392-e3219df9a3b3",
        "colab": {
          "base_uri": "https://localhost:8080/",
          "height": 420
        }
      },
      "source": [
        "seq = [0,0,0]\n",
        "alocacao_sem_repeticao(seq,4,3,0)"
      ],
      "execution_count": 7,
      "outputs": [
        {
          "output_type": "stream",
          "text": [
            "[1, 2, 3]\n",
            "[1, 2, 4]\n",
            "[1, 3, 2]\n",
            "[1, 3, 4]\n",
            "[1, 4, 2]\n",
            "[1, 4, 3]\n",
            "[2, 1, 3]\n",
            "[2, 1, 4]\n",
            "[2, 3, 1]\n",
            "[2, 3, 4]\n",
            "[2, 4, 1]\n",
            "[2, 4, 3]\n",
            "[3, 1, 2]\n",
            "[3, 1, 4]\n",
            "[3, 2, 1]\n",
            "[3, 2, 4]\n",
            "[3, 4, 1]\n",
            "[3, 4, 2]\n",
            "[4, 1, 2]\n",
            "[4, 1, 3]\n",
            "[4, 2, 1]\n",
            "[4, 2, 3]\n",
            "[4, 3, 1]\n",
            "[4, 3, 2]\n"
          ],
          "name": "stdout"
        }
      ]
    },
    {
      "cell_type": "markdown",
      "metadata": {
        "id": "6iIjwQ7yk8Lo"
      },
      "source": [
        "### Sem repetição, em que o controle de alocação é feito por um vetor"
      ]
    },
    {
      "cell_type": "code",
      "metadata": {
        "id": "S5Cth1GgzaW-"
      },
      "source": [
        "def alocacao_com_vetor(seq,alocado,n,k,i):\n",
        "  if (i == k):\n",
        "    print(seq)\n",
        "    return\n",
        "  for a in range (1,n+1):\n",
        "    if (alocado[a-1]==0):\n",
        "      seq[i] = a\n",
        "      alocado[a-1] = 1\n",
        "      alocacao_com_vetor(seq,alocado,n,k,i+1)\n",
        "      alocado[a-1] = 0\n"
      ],
      "execution_count": 8,
      "outputs": []
    },
    {
      "cell_type": "code",
      "metadata": {
        "id": "dfyJZXh_nqaB",
        "outputId": "1aef7fb0-c41b-4bb8-f659-b89ecd3ce669",
        "colab": {
          "base_uri": "https://localhost:8080/",
          "height": 420
        }
      },
      "source": [
        "seq = [0]*3\n",
        "alocado  = [0]*4\n",
        "alocacao_com_vetor(seq,alocado,4,3,0)"
      ],
      "execution_count": 9,
      "outputs": [
        {
          "output_type": "stream",
          "text": [
            "[1, 2, 3]\n",
            "[1, 2, 4]\n",
            "[1, 3, 2]\n",
            "[1, 3, 4]\n",
            "[1, 4, 2]\n",
            "[1, 4, 3]\n",
            "[2, 1, 3]\n",
            "[2, 1, 4]\n",
            "[2, 3, 1]\n",
            "[2, 3, 4]\n",
            "[2, 4, 1]\n",
            "[2, 4, 3]\n",
            "[3, 1, 2]\n",
            "[3, 1, 4]\n",
            "[3, 2, 1]\n",
            "[3, 2, 4]\n",
            "[3, 4, 1]\n",
            "[3, 4, 2]\n",
            "[4, 1, 2]\n",
            "[4, 1, 3]\n",
            "[4, 2, 1]\n",
            "[4, 2, 3]\n",
            "[4, 3, 1]\n",
            "[4, 3, 2]\n"
          ],
          "name": "stdout"
        }
      ]
    },
    {
      "cell_type": "markdown",
      "metadata": {
        "id": "0dI1GfwOyuyu"
      },
      "source": [
        "### Exemplo 2 : Passeio do Cavalo \n",
        "Dado um tabuleiro de xadrez n*n e uma posição inicial (x0 ,y0 ) do\n",
        "tabuleiro, deseja-se encontrar um passeio do cavalo que visite cada\n",
        "casa do tabuleiro uma única vez.\n",
        "\n",
        "Necessário:\n",
        "* A matriz t [1..n,1..n] que armazena os movimentos do cavalo:\n",
        "  * t [x,y]=0 se a casa (x,y) do tabuleiro não foi visitada.\n",
        "  * t [x,y]=i se a casa do tabuleiro (x,y) foi visitada no i-ésimo movimento.\n",
        "\n",
        "movimentos[1..8][1..2]\n",
        "\n",
        "movimentos[8][2] = {\n",
        "{2, 1}, {1, 2}, {-1, 2},\n",
        "{-2, 1}, {-2,-1}, {-1, -2},\n",
        "{1, -2}, {2, -1}}\n",
        "\n",
        "próxima k-ésima posição:\n",
        "\n",
        "proxima_posicao(x,y,k)\n",
        "nx = x + movimentos[k][1]\n",
        "ny = y + movimentos[k][2]\n",
        "devolve (nx,ny)"
      ]
    },
    {
      "cell_type": "code",
      "metadata": {
        "id": "CD0cp3dkv-qx"
      },
      "source": [
        "def proxima_posicao (x,y,k):\n",
        "  movimento_x = [2, 1, -1, -2, -2, -1, 1, 2]\n",
        "  movimento_y = [1, 2, 2, 1, -1, -2, -2, -1]\n",
        "  nx = x + movimento_x[k]\n",
        "  ny = y + movimento_y[k]\n",
        "  return nx,ny"
      ],
      "execution_count": 10,
      "outputs": []
    },
    {
      "cell_type": "code",
      "metadata": {
        "id": "btoGa2rr-gmL",
        "outputId": "170b2767-1e6a-4e45-c4a3-fb4910beb5ba",
        "colab": {
          "base_uri": "https://localhost:8080/",
          "height": 34
        }
      },
      "source": [
        "proxima_posicao(0,7,0)"
      ],
      "execution_count": 11,
      "outputs": [
        {
          "output_type": "execute_result",
          "data": {
            "text/plain": [
              "(2, 8)"
            ]
          },
          "metadata": {
            "tags": []
          },
          "execution_count": 11
        }
      ]
    },
    {
      "cell_type": "code",
      "metadata": {
        "id": "MSC691PeQ4gd"
      },
      "source": [
        "def verifica_posicao (x,y,n,matriz):\n",
        "  # Verificar se a posição gerada é válida, se não ultrapassa o limite do tabuleiro. \n",
        "  # Verificar também se a posição ainda não foi visitada\n",
        "  if (x >= 0 and x < n and y >= 0 and y <n and matriz[x][y] == 0):\n",
        "    return True\n",
        "  return False\n"
      ],
      "execution_count": 12,
      "outputs": []
    },
    {
      "cell_type": "code",
      "metadata": {
        "id": "o1tD5JXdRvCL"
      },
      "source": [
        "def print_matriz(n,matriz):\n",
        "  for i in range (n):\n",
        "    for j in range(n):\n",
        "      print(matriz[i][j], end = \" \")\n",
        "    print()\n",
        "  print(\"\\n \\n\")"
      ],
      "execution_count": 13,
      "outputs": []
    },
    {
      "cell_type": "code",
      "metadata": {
        "id": "ZgLxwxge-jvp"
      },
      "source": [
        "def passeio_cavalo (matriz,n,x,y,pos):\n",
        "  # Se o tabuleiro for 8 x 8 , o caso base seria 64\n",
        "  if (pos == (n*n)+1):\n",
        "    return True\n",
        "  # Percorre matriz de 8 x 2 com possiveis movimentos\n",
        "  for k in range (n):\n",
        "    # Gera a proxima posição para cavalo\n",
        "    (nx,ny) = proxima_posicao(x,y,k)\n",
        "    # Verificar se a posição gerada é válida, se não ultrapassa o limite do tabuleiro. \n",
        "    # Verificar também se a posição ainda não foi visitada\n",
        "    if (verifica_posicao(nx,ny,n,matriz)):\n",
        "      # Marca posição como visitada\n",
        "      matriz[nx][ny]=pos\n",
        "      # Chama método para nova posição\n",
        "      if (passeio_cavalo(matriz,n,nx,ny,pos+1)):\n",
        "        return True\n",
        "      # Se não encontrar solução desfaz a última ação\n",
        "      matriz[nx][ny]= 0\n",
        "  return False"
      ],
      "execution_count": 14,
      "outputs": []
    },
    {
      "cell_type": "code",
      "metadata": {
        "id": "RVoT133xSGzR"
      },
      "source": [
        "def solucao_passeio_cavalo(n,xi,yi):\n",
        "  # inicializando a matriz com zeros \n",
        "    matriz = [[0 for i in range(n)]for i in range(n)]\n",
        "    print(\"Matriz Original\")\n",
        "    pos = 1\n",
        "    matriz[xi][yi]=pos\n",
        "    print_matriz(n,matriz)\n",
        "  \n",
        "     # verificando solução começando pela posição xi,yi\n",
        "    if(not passeio_cavalo(matriz,n,xi,yi,pos+1)):\n",
        "        print(\"Solução não existe\")\n",
        "    else:\n",
        "        print_matriz(n, matriz)\n"
      ],
      "execution_count": 15,
      "outputs": []
    },
    {
      "cell_type": "code",
      "metadata": {
        "id": "skTozVoFBYzt",
        "outputId": "16342b6d-4fff-428e-b34b-a96013a81966",
        "colab": {
          "base_uri": "https://localhost:8080/",
          "height": 218
        }
      },
      "source": [
        "a = datetime.datetime.now()\n",
        "solucao_passeio_cavalo(8,0,7)\n",
        "b = datetime.datetime.now()\n",
        "c = b - a\n",
        "print(\"Tempo em segundos: \",c.seconds)"
      ],
      "execution_count": null,
      "outputs": [
        {
          "output_type": "stream",
          "text": [
            "Matriz Original\n",
            "0 0 0 0 0 0 0 1 \n",
            "0 0 0 0 0 0 0 0 \n",
            "0 0 0 0 0 0 0 0 \n",
            "0 0 0 0 0 0 0 0 \n",
            "0 0 0 0 0 0 0 0 \n",
            "0 0 0 0 0 0 0 0 \n",
            "0 0 0 0 0 0 0 0 \n",
            "0 0 0 0 0 0 0 0 \n",
            "\n",
            " \n",
            "\n"
          ],
          "name": "stdout"
        }
      ]
    },
    {
      "cell_type": "code",
      "metadata": {
        "id": "dkZNPgUPE0gQ"
      },
      "source": [
        ""
      ],
      "execution_count": null,
      "outputs": []
    }
  ]
}
